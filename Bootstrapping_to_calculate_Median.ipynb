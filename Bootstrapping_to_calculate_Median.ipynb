{
  "nbformat": 4,
  "nbformat_minor": 0,
  "metadata": {
    "colab": {
      "name": "Bootstrapping_to_calculate_Median.ipynb",
      "provenance": [],
      "authorship_tag": "ABX9TyON88z/L+is1zp3sQJr1W37",
      "include_colab_link": true
    },
    "kernelspec": {
      "name": "python3",
      "display_name": "Python 3"
    },
    "language_info": {
      "name": "python"
    }
  },
  "cells": [
    {
      "cell_type": "markdown",
      "metadata": {
        "id": "view-in-github",
        "colab_type": "text"
      },
      "source": [
        "<a href=\"https://colab.research.google.com/github/Yashasvi-Shukl/Statistics/blob/main/Bootstrapping_to_calculate_Median.ipynb\" target=\"_parent\"><img src=\"https://colab.research.google.com/assets/colab-badge.svg\" alt=\"Open In Colab\"/></a>"
      ]
    },
    {
      "cell_type": "markdown",
      "metadata": {
        "id": "YT_30ReQsJ0A"
      },
      "source": [
        "### Bootstrapping\n",
        "- Non-parametric Stats + Computational-Simulations\n",
        "- CLT: Sample means are Gaussian distributed with mean=population-mean.\n",
        "- Q. How to estimate the population median (or other statistics) given a single sample (S)?\n",
        "- Ans: Bootstrapping\n",
        "- Assmumption: Each observed value in the sample (S) is randomly collected and are independent."
      ]
    },
    {
      "cell_type": "code",
      "metadata": {
        "id": "MYQnKsGlZI8h"
      },
      "source": [
        "import numpy as np\n",
        "import pandas as pd\n",
        "import seaborn as sn\n",
        "import random\n",
        "import matplotlib.pyplot as plt"
      ],
      "execution_count": 1,
      "outputs": []
    },
    {
      "cell_type": "markdown",
      "metadata": {
        "id": "0ugEUQKqsmrM"
      },
      "source": [
        "Choosing Beta distribution because median of beta ditribution is already known to us. It can be calculated using below formula.\n",
        "\n",
        "![image.png](data:image/png;base64,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)\n",
        "\n",
        "Here in our case we are taking alpha = 2 and beta = 2. After substituting the value of alpha and beta we'll get median as **0.5**"
      ]
    },
    {
      "cell_type": "code",
      "metadata": {
        "id": "cSzgIgwBqF3o"
      },
      "source": [
        "S = np.random.beta(a = 2, b = 2, size = 100)\n",
        "\n",
        "def BootStraping (data, m):\n",
        "    ind = np.random.randint(S.size, size = m)\n",
        "    return S[ind]"
      ],
      "execution_count": 32,
      "outputs": []
    },
    {
      "cell_type": "code",
      "metadata": {
        "id": "eYpDzdKPrDPA"
      },
      "source": [
        "median = list()\n",
        "for i in range(1000):\n",
        "  median.append(np.median(BootStraping(S, 50)))"
      ],
      "execution_count": 33,
      "outputs": []
    },
    {
      "cell_type": "code",
      "metadata": {
        "colab": {
          "base_uri": "https://localhost:8080/"
        },
        "id": "fTsYD5WCraAV",
        "outputId": "3634efe9-0c7e-4ef2-f2a1-976a0be24454"
      },
      "source": [
        "# Now estimate median by mean\n",
        "np.mean(median)"
      ],
      "execution_count": 34,
      "outputs": [
        {
          "output_type": "execute_result",
          "data": {
            "text/plain": [
              "0.4829846540738434"
            ]
          },
          "metadata": {
            "tags": []
          },
          "execution_count": 34
        }
      ]
    },
    {
      "cell_type": "code",
      "metadata": {
        "colab": {
          "base_uri": "https://localhost:8080/"
        },
        "id": "Gr5m3qycryWZ",
        "outputId": "4a67a292-f67e-4066-bb8e-16b3f1dd2a15"
      },
      "source": [
        "# Now estimate median by median\n",
        "np.median(median)"
      ],
      "execution_count": 35,
      "outputs": [
        {
          "output_type": "execute_result",
          "data": {
            "text/plain": [
              "0.48221016112010495"
            ]
          },
          "metadata": {
            "tags": []
          },
          "execution_count": 35
        }
      ]
    },
    {
      "cell_type": "markdown",
      "metadata": {
        "id": "4e-G5HxMtxKR"
      },
      "source": [
        "Here we are getting median approx to 0.5"
      ]
    },
    {
      "cell_type": "code",
      "metadata": {
        "colab": {
          "base_uri": "https://localhost:8080/",
          "height": 318
        },
        "id": "7cibSOMxr2me",
        "outputId": "ce48b059-0362-45da-fed0-22194a86f198"
      },
      "source": [
        "sn.distplot(median)\n",
        "plt.grid()"
      ],
      "execution_count": 36,
      "outputs": [
        {
          "output_type": "stream",
          "text": [
            "/usr/local/lib/python3.7/dist-packages/seaborn/distributions.py:2557: FutureWarning: `distplot` is a deprecated function and will be removed in a future version. Please adapt your code to use either `displot` (a figure-level function with similar flexibility) or `histplot` (an axes-level function for histograms).\n",
            "  warnings.warn(msg, FutureWarning)\n"
          ],
          "name": "stderr"
        },
        {
          "output_type": "display_data",
          "data": {
            "image/png": "[encoded data removed]",
            "text/plain": [
              "<Figure size 432x288 with 1 Axes>"
            ]
          },
          "metadata": {
            "tags": [],
            "needs_background": "light"
          }
        }
      ]
    },
    {
      "cell_type": "code",
      "metadata": {
        "colab": {
          "base_uri": "https://localhost:8080/"
        },
        "id": "GlxR0He2r-X1",
        "outputId": "c98b35f8-dcca-4d88-9798-44a78233484e"
      },
      "source": [
        "# 95% C.I on the medain estimate with n=100, m=50, k=1000\n",
        "\n",
        "left_quantile = np.percentile(median, 2.5)\n",
        "right_quantile = np.percentile(median, 97.5)\n",
        "mid_quantile = np.percentile(median, 50)\n",
        "\n",
        "print(left_quantile, mid_quantile, right_quantile)"
      ],
      "execution_count": 37,
      "outputs": [
        {
          "output_type": "stream",
          "text": [
            "0.3840496479347653 0.48221016112010495 0.5944903781366435\n"
          ],
          "name": "stdout"
        }
      ]
    },
    {
      "cell_type": "code",
      "metadata": {
        "colab": {
          "base_uri": "https://localhost:8080/"
        },
        "id": "PaKLrMNRuzEz",
        "outputId": "b36aee36-fe40-4928-e6ff-e02547af500c"
      },
      "source": [
        "# Same experiment as above with n = 100, k = 1000 and m = 100\n",
        "\n",
        "median = list()\n",
        "for i in range(1000):\n",
        "  median.append(np.median(BootStraping(S, 100)))\n",
        "\n",
        "print(\"Mean Median : \", np.mean(median))\n",
        "\n",
        "# 95% C.I on the medain estimate with n=100, m=100, k=1000\n",
        "\n",
        "left_quantile = np.percentile(median, 2.5)\n",
        "right_quantile = np.percentile(median, 97.5)\n",
        "mid_quantile = np.percentile(median, 50)\n",
        "\n",
        "print(left_quantile, mid_quantile, right_quantile)"
      ],
      "execution_count": 38,
      "outputs": [
        {
          "output_type": "stream",
          "text": [
            "Mean Median :  0.4818042475535128\n",
            "0.40542986318101853 0.48137155661837416 0.5415660656778204\n"
          ],
          "name": "stdout"
        }
      ]
    },
    {
      "cell_type": "code",
      "metadata": {
        "colab": {
          "base_uri": "https://localhost:8080/"
        },
        "id": "ulzoLoatvsdV",
        "outputId": "eccec7d4-f494-4c36-ef43-cb7d7de6bcdc"
      },
      "source": [
        "# Same experiment as above with n = 100, k = 1000 and m = 200\n",
        "\n",
        "median = list()\n",
        "for i in range(1000):\n",
        "  median.append(np.median(BootStraping(S, 200)))\n",
        "\n",
        "print(\"Mean Median : \", np.mean(median))\n",
        "\n",
        "# 95% C.I on the medain estimate with n=100, m=100, k=1000\n",
        "\n",
        "left_quantile = np.percentile(median, 2.5)\n",
        "right_quantile = np.percentile(median, 97.5)\n",
        "mid_quantile = np.percentile(median, 50)\n",
        "\n",
        "print(left_quantile, mid_quantile, right_quantile)"
      ],
      "execution_count": 39,
      "outputs": [
        {
          "output_type": "stream",
          "text": [
            "Mean Median :  0.4838781116913863\n",
            "0.42865935561680457 0.48137155661837416 0.5207004578726422\n"
          ],
          "name": "stdout"
        }
      ]
    },
    {
      "cell_type": "code",
      "metadata": {
        "colab": {
          "base_uri": "https://localhost:8080/"
        },
        "id": "RxPbFrq1xirI",
        "outputId": "3dfc20f4-b40c-40b7-f798-609a5c12002f"
      },
      "source": [
        "# Same experiment as above with n = 100, k = 1000 and m = 500\n",
        "\n",
        "median = list()\n",
        "for i in range(1000):\n",
        "  median.append(np.median(BootStraping(S, 500)))\n",
        "\n",
        "print(\"Mean Median : \", np.mean(median))\n",
        "\n",
        "# 95% C.I on the medain estimate with n=100, m=100, k=1000\n",
        "\n",
        "left_quantile = np.percentile(median, 2.5)\n",
        "right_quantile = np.percentile(median, 97.5)\n",
        "mid_quantile = np.percentile(median, 50)\n",
        "\n",
        "print(left_quantile, mid_quantile, right_quantile)"
      ],
      "execution_count": 40,
      "outputs": [
        {
          "output_type": "stream",
          "text": [
            "Mean Median :  0.4835431074394701\n",
            "0.4611885787466437 0.48137155661837416 0.5159346040797392\n"
          ],
          "name": "stdout"
        }
      ]
    },
    {
      "cell_type": "markdown",
      "metadata": {
        "id": "mvVSeBMvybdO"
      },
      "source": [
        "On increasing sample size the interval between percentiles decreases"
      ]
    },
    {
      "cell_type": "code",
      "metadata": {
        "id": "5gGj7OJGyUok"
      },
      "source": [
        ""
      ],
      "execution_count": null,
      "outputs": []
    }
  ]
}