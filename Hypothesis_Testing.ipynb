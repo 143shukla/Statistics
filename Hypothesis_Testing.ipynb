{
  "nbformat": 4,
  "nbformat_minor": 0,
  "metadata": {
    "colab": {
      "name": "Hypothesis_Testing.ipynb",
      "provenance": [],
      "authorship_tag": "ABX9TyN7rCwJ4OdNa7WhsTvxfJ7v",
      "include_colab_link": true
    },
    "kernelspec": {
      "name": "python3",
      "display_name": "Python 3"
    },
    "language_info": {
      "name": "python"
    }
  },
  "cells": [
    {
      "cell_type": "markdown",
      "metadata": {
        "id": "view-in-github",
        "colab_type": "text"
      },
      "source": [
        "<a href=\"https://colab.research.google.com/github/Yashasvi-Shukl/Statistics/blob/main/Hypothesis_Testing.ipynb\" target=\"_parent\"><img src=\"https://colab.research.google.com/assets/colab-badge.svg\" alt=\"Open In Colab\"/></a>"
      ]
    },
    {
      "cell_type": "markdown",
      "metadata": {
        "id": "x-fQx08K-mGg"
      },
      "source": [
        "><font color='blue'>A survey shows that the average black friday sales of male is much higher(500$) when compared to that of female. A company which is planning for it's black friday sales want to know if this is true and hence wanted to take data from samples of different sizes such as 100,500,1000 from the population and note their black friday spending details.The company wants to know if there is really any difference in spending or it is just by chance(with significance leve 15%). Can you help the company come to a conclusion on this with the help of data provided about different samples?</font> "
      ]
    },
    {
      "cell_type": "markdown",
      "metadata": {
        "id": "vNgR420i-o61"
      },
      "source": [
        "<ol>\n",
        "    <li> <b>Stating Null Hypothesis and Alternate Hypothesis</b>\n",
        "        <ul>\n",
        "            <li><font color='brown'> Null Hypothesis $H_0$</font>:The average spending of male and female is same i.e, $\\mu_m= \\mu_f$ </li>\n",
        "            <li><font color='brown'> Alternative Hypothesis $H_a$</font>: The average spending of male is greater than that of female, i.e, $\\mu_m > \\mu_f $ </li>\n",
        "        </ul>\n",
        "    </li>\n",
        "    <br>\n",
        "    <li> <b>Choosing significance level</b>\n",
        "        <ul>\n",
        "            <li>As it was not mentioned in the problem we are taking the standard significance level <font color='red'> $\\alpha=0.15 $</font></li>\n",
        "        </ul>\n",
        "    </li>\n",
        "    <br>\n",
        "    <li> <b>Setting up Test Statistic</b>\n",
        "        <ul>\n",
        "           <li><font color='brown'>How do we decide whether or not to reject the null hypothesis H0 ?</font>\n",
        "               <br>a. we start by determining a test statistic with our sample data</li>\n",
        "           <li><font color='brown'>What is test statistic?</font>\n",
        "               <br>a. It is the evidence that we look for, to prove our null hypothesis\n",
        "               <br>b. The most natural choice for a test statistic of the difference in population mean is the difference in sample mean $ \\mu_m-\\mu_f $.\n",
        "        </ul>\n",
        "    </li>\n",
        "    \n",
        "</ol>\n",
        "\n",
        " \n",
        " "
      ]
    },
    {
      "cell_type": "code",
      "metadata": {
        "id": "gU_1vmSJV9g4"
      },
      "source": [
        "import numpy as np\n",
        "import pandas as pd\n",
        "import matplotlib.pyplot as plt\n",
        "import seaborn as sn\n",
        "import random\n",
        "from prettytable import PrettyTable"
      ],
      "execution_count": 1,
      "outputs": []
    },
    {
      "cell_type": "code",
      "metadata": {
        "colab": {
          "base_uri": "https://localhost:8080/"
        },
        "id": "RORN00itWQ1Y",
        "outputId": "e6d13c77-9d14-4940-9d61-356ca91572c1"
      },
      "source": [
        "!wget https://raw.githubusercontent.com/mathubhalan/Black-Friday-Sales/master/Data/BlackFriday.csv"
      ],
      "execution_count": 2,
      "outputs": [
        {
          "output_type": "stream",
          "text": [
            "--2021-05-14 05:51:05--  https://raw.githubusercontent.com/mathubhalan/Black-Friday-Sales/master/Data/BlackFriday.csv\n",
            "Resolving raw.githubusercontent.com (raw.githubusercontent.com)... 185.199.108.133, 185.199.111.133, 185.199.109.133, ...\n",
            "Connecting to raw.githubusercontent.com (raw.githubusercontent.com)|185.199.108.133|:443... connected.\n",
            "HTTP request sent, awaiting response... 200 OK\n",
            "Length: 24418530 (23M) [text/plain]\n",
            "Saving to: ‘BlackFriday.csv’\n",
            "\n",
            "BlackFriday.csv     100%[===================>]  23.29M  52.0MB/s    in 0.4s    \n",
            "\n",
            "2021-05-14 05:51:06 (52.0 MB/s) - ‘BlackFriday.csv’ saved [24418530/24418530]\n",
            "\n"
          ],
          "name": "stdout"
        }
      ]
    },
    {
      "cell_type": "code",
      "metadata": {
        "id": "WLY5uxdWWhW5"
      },
      "source": [
        "df = pd.read_csv(\"BlackFriday.csv\")\n",
        "data_male = df[df[\"Gender\"] == \"M\"][\"Purchase\"].values\n",
        "data_female = df[df['Gender'] == 'F']['Purchase'].values"
      ],
      "execution_count": 3,
      "outputs": []
    },
    {
      "cell_type": "code",
      "metadata": {
        "id": "4O0OsH2lwud5"
      },
      "source": [
        "def cdf_plot(sample_diff, i, clr, threshold, sample_size):\n",
        "  sn.kdeplot(sample_diff,cumulative=True, ax=axs[i])\n",
        "  axs[i].axvline(threshold, linestyle = '--', color = clr, label = 'Threshold '+str(threshold))\n",
        "  axs[i].set_title(\"CDF of differences for \" + str(sample_size) +\" samples\")\n",
        "  axs[i].legend()"
      ],
      "execution_count": 4,
      "outputs": []
    },
    {
      "cell_type": "code",
      "metadata": {
        "id": "mwj6L6w8XRBv"
      },
      "source": [
        "def Mean_difference(data_male, data_female):\n",
        "  difference = np.round(np.array(data_male).mean() - np.array(data_female).mean(), 3)\n",
        "  return difference"
      ],
      "execution_count": 5,
      "outputs": []
    },
    {
      "cell_type": "code",
      "metadata": {
        "id": "gp1EFdT7XZ2i"
      },
      "source": [
        "def Calculate_PValue(data_male, data_female, diff_mean, alpha):\n",
        "\n",
        "  # Merging both male and female data to create a pool\n",
        "  total_sample = np.append(data_female,data_male)\n",
        "  # Create list to store the average values of both the samples and the difference of them\n",
        "  diff = []\n",
        "  # Sampling the data for 1000 times\n",
        "  for i in range(0,1000):\n",
        "    #Picking 100 random numbers \n",
        "    sample = np.array(random.sample(list(total_sample), 100))\n",
        "    #First 50 random numbers are taken as set 1\n",
        "    set1 = sample[:50].mean()\n",
        "    #Next 50 random numbers are taken as set 2\n",
        "    set2 = sample[50:].mean()\n",
        "    #Taking the differnce between the two sets\n",
        "    diff.append(set1 - set2)\n",
        "    \n",
        "  #Step3- Sorting the values and counting the number of values greater than the threshold\n",
        "  diff.sort()\n",
        "\n",
        "  count = sum(((i > diff_mean) and (i>0)) for i in diff)\n",
        "  pValue = count/len(diff)\n",
        "  print(\"Percentage of values greater than the difference\",diff_mean,\" =\",pValue*100,\"%\")\n",
        "  print(\"The pValue = \",pValue, \"and the significance P(Reject H0 when H0 is true)=\",alpha)\n",
        "\n",
        "  if pValue>alpha:\n",
        "    print(\"We fail to reject the null hypothesis\")\n",
        "  else:\n",
        "    print(\"We can reject the null hypothesis\")\n",
        "\n",
        "  return diff\n"
      ],
      "execution_count": 6,
      "outputs": []
    },
    {
      "cell_type": "code",
      "metadata": {
        "colab": {
          "base_uri": "https://localhost:8080/",
          "height": 587
        },
        "id": "NDJSvz9UZTO1",
        "outputId": "0aa6b1b5-e8eb-4989-9eba-04377e0043ed"
      },
      "source": [
        "sample_sizes = [100, 500, 1000]\n",
        "alpha = 0.15\n",
        "clrs = ['brown', 'g', 'blue']\n",
        "fig, axs = plt.subplots(1, 3,figsize=(15, 5))\n",
        "\n",
        "for i,j in enumerate(sample_sizes):\n",
        "\n",
        "  female_sample = random.sample(list(data_female), j)\n",
        "  male_sample = random.sample(list(data_male), j)\n",
        "  print(len(female_sample))\n",
        "  print(len(male_sample))\n",
        "\n",
        "  #Step 1- Combine both samples of size 50 each to a large sample of size 100 to simulate null hypothesis\n",
        "  mean_diff = Mean_difference(male_sample, female_sample)\n",
        "  sample_diff = Calculate_PValue(male_sample, female_sample, mean_diff, alpha) \n",
        "\n",
        "  cdf_plot(sample_diff, i, clrs[i], mean_diff, j)"
      ],
      "execution_count": 15,
      "outputs": [
        {
          "output_type": "stream",
          "text": [
            "100\n",
            "100\n",
            "Percentage of values greater than the difference 264.17  = 40.1 %\n",
            "The pValue =  0.401 and the significance P(Reject H0 when H0 is true)= 0.15\n",
            "We fail to reject the null hypothesis\n",
            "500\n",
            "500\n",
            "Percentage of values greater than the difference 953.574  = 17.4 %\n",
            "The pValue =  0.174 and the significance P(Reject H0 when H0 is true)= 0.15\n",
            "We fail to reject the null hypothesis\n",
            "1000\n",
            "1000\n",
            "Percentage of values greater than the difference 733.514  = 23.799999999999997 %\n",
            "The pValue =  0.238 and the significance P(Reject H0 when H0 is true)= 0.15\n",
            "We fail to reject the null hypothesis\n"
          ],
          "name": "stdout"
        },
        {
          "output_type": "display_data",
          "data": {
            "image/png": "[encoded data removed]",
            "text/plain": [
              "<Figure size 1080x360 with 3 Axes>"
            ]
          },
          "metadata": {
            "tags": [],
            "needs_background": "light"
          }
        }
      ]
    },
    {
      "cell_type": "markdown",
      "metadata": {
        "id": "YrjbcQLVO3rM"
      },
      "source": [
        "> <h4> <font size=4 color='#339933'> A company wants know if black friday spendings of males follow a normal distribution.A sample of 30 males were asked about thier spendings and their answers were recorded. Determine if this sample comes from normal distribution with 5% signinifance level.  </font> </h4>"
      ]
    },
    {
      "cell_type": "markdown",
      "metadata": {
        "id": "AEnWMTQvPHgx"
      },
      "source": [
        "__<font  color='#7300e6'>Q:Given two samples, how can we find whether they are follow same distribution or not? </font>__"
      ]
    },
    {
      "cell_type": "markdown",
      "metadata": {
        "id": "yKenvXg4PKLq"
      },
      "source": [
        "<font color='#339933'>\n",
        "    Ans: <font color='red'>Q-Q Plot </font>can be used for graphically visualize how two distributions are ,but Q-Q plot cannot quantify how much different one distribution is to another. Therefore we cannot perform Hypothesis testing using Q-Q plot.\n",
        "\n",
        "</font>"
      ]
    },
    {
      "cell_type": "markdown",
      "metadata": {
        "id": "0SRRgvnwPQeZ"
      },
      "source": [
        "__<font color='#7300e6'>Q:Then how to measure the Similarity ?</font>__\n"
      ]
    },
    {
      "cell_type": "markdown",
      "metadata": {
        "id": "ImKg1Y_nPsrW"
      },
      "source": [
        "KS Test can be performed for two types of problems.\n",
        "1. There's the <b>one sample Kolmogorov-Smirnov test</b> for testing if a variable follows a given distribution in a population. This “given distribution” is usually -not always- the normal distribution, hence “Kolmogorov-Smirnov normality test”. \n",
        "2. There's also the <b>independent samples Kolmogorov-Smirnov test</b> for testing if a variable has identical distributions in 2 populations."
      ]
    },
    {
      "cell_type": "markdown",
      "metadata": {
        "id": "aum_3mAwQAO4"
      },
      "source": [
        "1. State the Null hypothesis that both the random variables come from same distribution\n",
        "2. State the  Alternative hypothesis that both the random variables do not come from same distribution\n",
        "3. Setup a confidence interval value\n",
        "4. Calculate the D value using following formula $D_n,_m=Maximum|F_n(X)−F_m(X)|$\n",
        "5. The null hypothesis is rejected at level $\\alpha $ if $$D_{n,m} > c(\\alpha) \\sqrt(\\frac{n+m}{nm})$$ where $c(\\alpha)=\\sqrt(-\\frac{1}{2}log_e\\frac{alpha}{2})$ <br> $n$,$m$ =number of points in samples."
      ]
    },
    {
      "cell_type": "markdown",
      "metadata": {
        "id": "_a6DYEs_QS8q"
      },
      "source": [
        "\n",
        "  <h4><font color='blue'> Step 1:</font> <b>Stating Null Hypothesis and Alternate Hypothesis</b></h4>\n",
        "         "
      ]
    },
    {
      "cell_type": "markdown",
      "metadata": {
        "id": "g7syP007QatR"
      },
      "source": [
        "<font color='brown'> Null Hypothesis $H_0$</font>:The black friday spendings of males follow a normal distribution.<br>\n",
        "<font color='brown'> Alternative Hypothesis $H_a$</font>: The black friday spendings of males do not follow a normal distribution."
      ]
    },
    {
      "cell_type": "code",
      "metadata": {
        "id": "P--Y8IM_RDgP"
      },
      "source": [
        "# Taking one sample of size 500 from unknown disb\n",
        "samples = np.array(random.sample(range(0, data_male.shape[0]), 30))\n",
        "samples = (samples-samples.mean())/samples.std() #normalizing the sample\n",
        "\n",
        "# Taking a sample of size 1000 from known disb\n",
        "norm_samples=np.random.normal(loc=0.0, scale=1.0, size=30)\n",
        "# norm_samples=(normal-normal.mean())/normal.std()"
      ],
      "execution_count": 8,
      "outputs": []
    },
    {
      "cell_type": "code",
      "metadata": {
        "colab": {
          "base_uri": "https://localhost:8080/",
          "height": 265
        },
        "id": "rk6zB9XsRXs1",
        "outputId": "b7eee26d-e16d-4a05-dc20-5377daf2ca46"
      },
      "source": [
        "sorted_data = np.sort(samples)\n",
        "yvals=np.arange(len(sorted_data))/float(len(sorted_data)-1)\n",
        "\n",
        "norm_sorted_data = np.sort(norm_samples)\n",
        "norm_yvals=np.arange(len(norm_sorted_data))/float(len(norm_sorted_data)-1)\n",
        "\n",
        "plt.plot(sorted_data,yvals,label='Sample dist')\n",
        "plt.plot(norm_sorted_data,norm_yvals,label='Normal disb') \n",
        "\n",
        "plt.legend()\n",
        "plt.show()"
      ],
      "execution_count": 9,
      "outputs": [
        {
          "output_type": "display_data",
          "data": {
            "image/png": "[encoded data removed]",
            "text/plain": [
              "<Figure size 432x288 with 1 Axes>"
            ]
          },
          "metadata": {
            "tags": [],
            "needs_background": "light"
          }
        }
      ]
    },
    {
      "cell_type": "markdown",
      "metadata": {
        "id": "KieK6vT4RhU3"
      },
      "source": [
        "<font color='blue'> Step 2:</font> <b>Choosing significance level</b>"
      ]
    },
    {
      "cell_type": "markdown",
      "metadata": {
        "id": "8XuCLl8rRiqM"
      },
      "source": [
        " Note that the significance level is  mentioned in the problem.<font color='red'> $$\\alpha=0.05 $$</font>"
      ]
    },
    {
      "cell_type": "markdown",
      "metadata": {
        "id": "314YnFw5akh9"
      },
      "source": [
        "<font color='blue'> Step 3:</font> <b>Calculating the test statistic</b>"
      ]
    },
    {
      "cell_type": "markdown",
      "metadata": {
        "id": "HKVe8PeDaltZ"
      },
      "source": [
        "<ul>\n",
        "    <li>Here the test statistic we are dealing with is $D_N,_M$</li>\n",
        "    <li> $D_N,_M$ is maximum distance between CDF of two distributions \n",
        "</ul>"
      ]
    },
    {
      "cell_type": "code",
      "metadata": {
        "id": "HIffEdGtatAb"
      },
      "source": [
        "#https://github.com/scipy/scipy/blob/v0.14.0/scipy/stats/stats.py#L3809\n",
        "#sorting the data\n",
        "data1 = np.sort(samples)\n",
        "data2 = np.sort(norm_samples)\n",
        "#storing the length of data\n",
        "n1 = data1.shape[0]\n",
        "n2 = data2.shape[0]\n",
        "data_all = np.concatenate([data1, data2])\n",
        "#calculating cdf\n",
        "cdf1 = np.searchsorted(data1, data_all, side='right') / n1\n",
        "cdf2 = np.searchsorted(data2, data_all, side='right') / n2\n",
        "# d=max(abs(cdf1-cdf2))\n",
        "d = np.max(np.absolute(cdf1 - cdf2))"
      ],
      "execution_count": 10,
      "outputs": []
    },
    {
      "cell_type": "code",
      "metadata": {
        "colab": {
          "base_uri": "https://localhost:8080/"
        },
        "id": "hQkHwYKXaxKL",
        "outputId": "a2a6fa04-2e2c-4830-f544-4f19485c728b"
      },
      "source": [
        "print('The test statictic d=',d)"
      ],
      "execution_count": 11,
      "outputs": [
        {
          "output_type": "stream",
          "text": [
            "The test statictic d= 0.2333333333333334\n"
          ],
          "name": "stdout"
        }
      ]
    },
    {
      "cell_type": "markdown",
      "metadata": {
        "id": "5sSXwNM7a2eZ"
      },
      "source": [
        "<h4> Calculating test statistic using scipy.stats api </h4>"
      ]
    },
    {
      "cell_type": "code",
      "metadata": {
        "id": "B3ZLkE9Xa7lg"
      },
      "source": [
        "from scipy.stats import ks_2samp\n",
        "d,p=ks_2samp(norm_samples,samples)"
      ],
      "execution_count": 12,
      "outputs": []
    },
    {
      "cell_type": "code",
      "metadata": {
        "colab": {
          "base_uri": "https://localhost:8080/"
        },
        "id": "pPuajsqebF-3",
        "outputId": "20f824a4-2db7-4619-fff8-f9fd840a2176"
      },
      "source": [
        "print('The D value when calculated using scipy.stats api is',d ,'which is exactly equal to value we got')"
      ],
      "execution_count": 13,
      "outputs": [
        {
          "output_type": "stream",
          "text": [
            "The D value when calculated using scipy.stats api is 0.23333333333333334 which is exactly equal to value we got\n"
          ],
          "name": "stdout"
        }
      ]
    },
    {
      "cell_type": "code",
      "metadata": {
        "colab": {
          "base_uri": "https://localhost:8080/"
        },
        "id": "JkI9OMx6bIvW",
        "outputId": "f4e10c4b-b364-4193-af49-7fd412a4db0f"
      },
      "source": [
        "print('Corresponding P value for the D is ',p)"
      ],
      "execution_count": 14,
      "outputs": [
        {
          "output_type": "stream",
          "text": [
            "Corresponding P value for the D is  0.39294501397971776\n"
          ],
          "name": "stdout"
        }
      ]
    },
    {
      "cell_type": "markdown",
      "metadata": {
        "id": "-JUjsXACbPnH"
      },
      "source": [
        "<font color='blue'> Step 4:</font> <b>Comparing P value with Significance level</b>"
      ]
    },
    {
      "cell_type": "markdown",
      "metadata": {
        "id": "KyPXTo7mbUgF"
      },
      "source": [
        "<font> We can clearly observe that P value <font color='red'>0.393 > 0.05</font> and hence we <b>fail to reject the null </b> hypothesis $H_0$ that both the first sample come from normal distribution </font>"
      ]
    }
  ]
}