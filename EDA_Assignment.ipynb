{
  "nbformat": 4,
  "nbformat_minor": 0,
  "metadata": {
    "colab": {
      "name": "EDA_Assignment",
      "provenance": [],
      "collapsed_sections": [],
      "authorship_tag": "ABX9TyO1h0oDaqoApZjPkZAzbzHA",
      "include_colab_link": true
    },
    "kernelspec": {
      "name": "python3",
      "display_name": "Python 3"
    },
    "language_info": {
      "name": "python"
    }
  },
  "cells": [
    {
      "cell_type": "markdown",
      "metadata": {
        "id": "view-in-github",
        "colab_type": "text"
      },
      "source": [
        "<a href=\"https://colab.research.google.com/github/yashasvi-shukl/Statistics/blob/main/EDA_Assignment.ipynb\" target=\"_parent\"><img src=\"https://colab.research.google.com/assets/colab-badge.svg\" alt=\"Open In Colab\"/></a>"
      ]
    },
    {
      "cell_type": "code",
      "metadata": {
        "colab": {
          "base_uri": "https://localhost:8080/"
        },
        "id": "eoZwi1VREyjj",
        "outputId": "8dab397a-0a48-40ee-b7c1-be2a7f0a0b91"
      },
      "source": [
        "!pip3 install --upgrade scipy"
      ],
      "execution_count": null,
      "outputs": [
        {
          "output_type": "stream",
          "text": [
            "Collecting scipy\n",
            "\u001b[?25l  Downloading https://files.pythonhosted.org/packages/7d/e8/43ffca541d2f208d516296950b25fe1084b35c2881f4d444c1346ca75815/scipy-1.6.3-cp37-cp37m-manylinux1_x86_64.whl (27.4MB)\n",
            "\u001b[K     |████████████████████████████████| 27.4MB 152kB/s \n",
            "\u001b[?25hRequirement already satisfied, skipping upgrade: numpy<1.23.0,>=1.16.5 in /usr/local/lib/python3.7/dist-packages (from scipy) (1.19.5)\n",
            "\u001b[31mERROR: albumentations 0.1.12 has requirement imgaug<0.2.7,>=0.2.5, but you'll have imgaug 0.2.9 which is incompatible.\u001b[0m\n",
            "Installing collected packages: scipy\n",
            "  Found existing installation: scipy 1.4.1\n",
            "    Uninstalling scipy-1.4.1:\n",
            "      Successfully uninstalled scipy-1.4.1\n",
            "Successfully installed scipy-1.6.3\n"
          ],
          "name": "stdout"
        }
      ]
    },
    {
      "cell_type": "code",
      "metadata": {
        "id": "VEjaDNl9hXME"
      },
      "source": [
        "import numpy as np\n",
        "import statistics as st\n",
        "import math\n",
        "import pandas as pd\n",
        "from scipy.stats import median_abs_deviation, iqr\n",
        "\n",
        "arr = [31,33,18,12,5,39,25,30,22,16]"
      ],
      "execution_count": null,
      "outputs": []
    },
    {
      "cell_type": "code",
      "metadata": {
        "id": "z2mDGciLhk8-"
      },
      "source": [
        "def mean(arr):\n",
        "  return sum(arr)/len(arr)"
      ],
      "execution_count": null,
      "outputs": []
    },
    {
      "cell_type": "code",
      "metadata": {
        "id": "FpOy9zWqh0VO"
      },
      "source": [
        "def median(arr):\n",
        "  arr = sorted(arr)\n",
        "  if (len(arr) % 2 != 0):\n",
        "    return arr[len(arr)//2]\n",
        "\n",
        "  else:\n",
        "    return (arr[len(arr)//2] + arr[len(arr)//2 - 1]) / 2\n"
      ],
      "execution_count": null,
      "outputs": []
    },
    {
      "cell_type": "code",
      "metadata": {
        "id": "VBljtEOzh7DW"
      },
      "source": [
        "def variance(arr):\n",
        "  m = 0\n",
        "  m = mean(arr)\n",
        "  s = 0\n",
        "  for x in arr:\n",
        "    s += (x - m)**2\n",
        "  return s/(len(arr)-1)"
      ],
      "execution_count": null,
      "outputs": []
    },
    {
      "cell_type": "code",
      "metadata": {
        "id": "XOoBQsLguy6F"
      },
      "source": [
        "def Standard_Deviation(arr):\n",
        "  var  =  variance(arr)\n",
        "  return math.sqrt(var)"
      ],
      "execution_count": null,
      "outputs": []
    },
    {
      "cell_type": "code",
      "metadata": {
        "id": "4nAFj9taQG5C"
      },
      "source": [
        "# [31,33,18,12,5,39,25,30,22,16]\n",
        "# [5, 12, 16, 18, 22, 25, 30, 31, 33, 39]  == sorted\n",
        "# L = (len(arr) - 1) * (percentile/100)  ====>   (10 - 1) * (25/100) = 2.25 ===> calculating 25 percetile\n",
        "# so vaue is 2.25, which means values lies between index no 2 and 3. We take lower index in this case i.e. 2\n",
        "# Therefore percentile value is (value_at_index + (L- index)) * (difference between values of higher index and lower index)\n",
        "# From above formula  (value_at_index_2 i.e. 16) + (2.25 - 2) * (value_at_index_3 i.e. 18 - value_at_index_2 i.e. 16)\n",
        "# ====>   16 + (0.25)*2  =  16+0.5 = 16.5\n",
        "\n",
        "\n",
        "def percentile(arr, per):\n",
        "  arr = sorted(arr)\n",
        "  ind_range = (len(arr) -1) * (per/100)\n",
        "  index = math.floor(ind_range)\n",
        "  percentile = arr[index] + np.multiply(ind_range - index, arr[index + 1] - arr[index]) \n",
        "\n",
        "  return percentile"
      ],
      "execution_count": null,
      "outputs": []
    },
    {
      "cell_type": "code",
      "metadata": {
        "id": "uX7_TPpc8GbP"
      },
      "source": [
        "def Inter_Quartile_Range(arr):\n",
        "  return percentile(arr,75) - percentile(arr,25)"
      ],
      "execution_count": null,
      "outputs": []
    },
    {
      "cell_type": "code",
      "metadata": {
        "id": "69WDKz3W8lJE"
      },
      "source": [
        "def Median_Absolute_Deviation(arr):\n",
        "  median_num = 0\n",
        "  median_num = median(arr)\n",
        "  new_dataset = []\n",
        "  for x in arr:\n",
        "    new_dataset.append(abs(x - median_num))\n",
        "  return median(new_dataset)"
      ],
      "execution_count": null,
      "outputs": []
    },
    {
      "cell_type": "code",
      "metadata": {
        "colab": {
          "base_uri": "https://localhost:8080/"
        },
        "id": "lMsZb4feiHeH",
        "outputId": "90da8ba0-3984-4e38-a692-d1b73484f153"
      },
      "source": [
        "print(\"Mean : \",mean(arr))\n",
        "print(\"Median : \",median(arr))\n",
        "print(\"Variance : \",variance(arr))\n",
        "print(\"Standard Deviation : \", Standard_Deviation(arr))\n",
        "print(\"Inter Quartile Rnage : \",Inter_Quartile_Range(arr))\n",
        "print(\"Percentile 90th : \",percentile(arr,90))\n",
        "print(\"Percentile 99th : \",percentile(arr,99))\n",
        "print(\"Median Absolute Deviation : \", Median_Absolute_Deviation(arr))"
      ],
      "execution_count": null,
      "outputs": [
        {
          "output_type": "stream",
          "text": [
            "Mean :  23.1\n",
            "Median :  23.5\n",
            "Variance :  110.32222222222222\n",
            "Standard Deviation :  10.50343859039611\n",
            "Inter Quartile Rnage :  14.25\n",
            "Percentile 90th :  33.599999999999994\n",
            "Percentile 99th :  38.46\n",
            "Median Absolute Deviation :  7.5\n"
          ],
          "name": "stdout"
        }
      ]
    },
    {
      "cell_type": "code",
      "metadata": {
        "colab": {
          "base_uri": "https://localhost:8080/"
        },
        "id": "j9A8KmNQ7Y5G",
        "outputId": "85bffaa9-df8e-46dd-c7a6-38224f787931"
      },
      "source": [
        "print(\"Mean : \", np.mean(arr))\n",
        "print(\"Median : \", np.median(arr))\n",
        "print(\"Variance : \",st.variance(arr))\n",
        "print(\"Standard Deviation : \",st.stdev(arr))\n",
        "print(\"Inter Quartile Range : \", iqr(arr))\n",
        "print(\"Percentile 90th : \",np.percentile(arr, 90))\n",
        "print(\"Percentile 99th : \",np.percentile(arr, 99))\n",
        "print(\"Median Absolute Deviation : \",median_abs_deviation(arr))"
      ],
      "execution_count": null,
      "outputs": [
        {
          "output_type": "stream",
          "text": [
            "Mean :  23.1\n",
            "Median :  23.5\n",
            "Variance :  110.32222222222222\n",
            "Standard Deviation :  10.50343859039611\n",
            "Inter Quartile Range :  14.25\n",
            "Percentile 90th :  33.599999999999994\n",
            "Percentile 99th :  38.46000000000001\n",
            "Median Absolute Deviation :  7.5\n"
          ],
          "name": "stdout"
        }
      ]
    }
  ]
}